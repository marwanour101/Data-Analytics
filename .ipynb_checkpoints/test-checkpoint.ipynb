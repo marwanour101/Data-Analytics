{
 "cells": [
  {
   "cell_type": "code",
   "execution_count": 47,
   "id": "7d3d861b",
   "metadata": {},
   "outputs": [],
   "source": [
    "import pandas as pd"
   ]
  },
  {
   "cell_type": "code",
   "execution_count": 48,
   "id": "71a045ef",
   "metadata": {},
   "outputs": [
    {
     "name": "stdout",
     "output_type": "stream",
     "text": [
      "<class 'pandas.core.frame.DataFrame'>\n",
      "RangeIndex: 41188 entries, 0 to 41187\n",
      "Data columns (total 20 columns):\n",
      " #   Column          Non-Null Count  Dtype  \n",
      "---  ------          --------------  -----  \n",
      " 0   age             41188 non-null  int64  \n",
      " 1   job             41188 non-null  object \n",
      " 2   marital         41188 non-null  object \n",
      " 3   education       41188 non-null  object \n",
      " 4   default         41188 non-null  object \n",
      " 5   housing         41188 non-null  object \n",
      " 6   loan            41188 non-null  object \n",
      " 7   contact         41188 non-null  object \n",
      " 8   month           41188 non-null  object \n",
      " 9   day_of_week     41188 non-null  object \n",
      " 10  campaign        41188 non-null  int64  \n",
      " 11  pdays           41188 non-null  int64  \n",
      " 12  previous        41188 non-null  int64  \n",
      " 13  poutcome        41188 non-null  object \n",
      " 14  emp.var.rate    41188 non-null  float64\n",
      " 15  cons.price.idx  41188 non-null  float64\n",
      " 16  cons.conf.idx   41188 non-null  float64\n",
      " 17  euribor3m       41188 non-null  float64\n",
      " 18  nr.employed     41188 non-null  float64\n",
      " 19  y               41188 non-null  object \n",
      "dtypes: float64(5), int64(4), object(11)\n",
      "memory usage: 6.3+ MB\n"
     ]
    }
   ],
   "source": [
    "df = pd.read_csv(\"bank-direct-marketing-campaigns.csv\" , encoding='latin-1')\n",
    "df.info()"
   ]
  },
  {
   "cell_type": "code",
   "execution_count": 49,
   "id": "c41227f6",
   "metadata": {},
   "outputs": [
    {
     "data": {
      "text/plain": [
       "age               0\n",
       "job               0\n",
       "marital           0\n",
       "education         0\n",
       "default           0\n",
       "housing           0\n",
       "loan              0\n",
       "contact           0\n",
       "month             0\n",
       "day_of_week       0\n",
       "campaign          0\n",
       "pdays             0\n",
       "previous          0\n",
       "poutcome          0\n",
       "emp.var.rate      0\n",
       "cons.price.idx    0\n",
       "cons.conf.idx     0\n",
       "euribor3m         0\n",
       "nr.employed       0\n",
       "y                 0\n",
       "dtype: int64"
      ]
     },
     "execution_count": 49,
     "metadata": {},
     "output_type": "execute_result"
    }
   ],
   "source": [
    "df.isna().sum()"
   ]
  },
  {
   "cell_type": "code",
   "execution_count": 50,
   "id": "cd8be99e",
   "metadata": {},
   "outputs": [],
   "source": [
    "from sklearn.preprocessing import LabelEncoder"
   ]
  },
  {
   "cell_type": "code",
   "execution_count": 51,
   "id": "94bfe3d4",
   "metadata": {},
   "outputs": [],
   "source": [
    "le = LabelEncoder()"
   ]
  },
  {
   "cell_type": "code",
   "execution_count": 52,
   "id": "ca6d5f3a",
   "metadata": {},
   "outputs": [],
   "source": [
    "df['job'] = le.fit_transform(df.job)"
   ]
  },
  {
   "cell_type": "code",
   "execution_count": 53,
   "id": "d92ced2f",
   "metadata": {},
   "outputs": [],
   "source": [
    "df['marital'] = le.fit_transform(df.marital)"
   ]
  },
  {
   "cell_type": "code",
   "execution_count": 54,
   "id": "45527357",
   "metadata": {},
   "outputs": [],
   "source": [
    "df['education'] = le.fit_transform(df.education)"
   ]
  },
  {
   "cell_type": "code",
   "execution_count": 55,
   "id": "de090ae0",
   "metadata": {},
   "outputs": [],
   "source": [
    "df['default'] = le.fit_transform(df.default)"
   ]
  },
  {
   "cell_type": "code",
   "execution_count": 56,
   "id": "019404b0",
   "metadata": {},
   "outputs": [],
   "source": [
    "df['housing'] = le.fit_transform(df.housing)"
   ]
  },
  {
   "cell_type": "code",
   "execution_count": 57,
   "id": "e7dd9b5d",
   "metadata": {},
   "outputs": [],
   "source": [
    "df['loan'] = le.fit_transform(df.loan)"
   ]
  },
  {
   "cell_type": "code",
   "execution_count": 58,
   "id": "260376ad",
   "metadata": {},
   "outputs": [],
   "source": [
    "df['contact'] = le.fit_transform(df.contact)"
   ]
  },
  {
   "cell_type": "code",
   "execution_count": 59,
   "id": "34d46f29",
   "metadata": {},
   "outputs": [],
   "source": [
    "df['month'] = le.fit_transform(df.month)"
   ]
  },
  {
   "cell_type": "code",
   "execution_count": 60,
   "id": "1001b1be",
   "metadata": {},
   "outputs": [],
   "source": [
    "df['day_of_week'] = le.fit_transform(df.day_of_week)"
   ]
  },
  {
   "cell_type": "code",
   "execution_count": 61,
   "id": "392615ac",
   "metadata": {},
   "outputs": [],
   "source": [
    "df['poutcome'] = le.fit_transform(df.poutcome)"
   ]
  },
  {
   "cell_type": "code",
   "execution_count": 62,
   "id": "6a9c0bd0",
   "metadata": {},
   "outputs": [],
   "source": [
    "df['y'] = le.fit_transform(df.y)"
   ]
  },
  {
   "cell_type": "code",
   "execution_count": 63,
   "id": "233bba32",
   "metadata": {},
   "outputs": [
    {
     "data": {
      "text/html": [
       "<div>\n",
       "<style scoped>\n",
       "    .dataframe tbody tr th:only-of-type {\n",
       "        vertical-align: middle;\n",
       "    }\n",
       "\n",
       "    .dataframe tbody tr th {\n",
       "        vertical-align: top;\n",
       "    }\n",
       "\n",
       "    .dataframe thead th {\n",
       "        text-align: right;\n",
       "    }\n",
       "</style>\n",
       "<table border=\"1\" class=\"dataframe\">\n",
       "  <thead>\n",
       "    <tr style=\"text-align: right;\">\n",
       "      <th></th>\n",
       "      <th>age</th>\n",
       "      <th>job</th>\n",
       "      <th>marital</th>\n",
       "      <th>education</th>\n",
       "      <th>default</th>\n",
       "      <th>housing</th>\n",
       "      <th>loan</th>\n",
       "      <th>contact</th>\n",
       "      <th>month</th>\n",
       "      <th>day_of_week</th>\n",
       "      <th>campaign</th>\n",
       "      <th>pdays</th>\n",
       "      <th>previous</th>\n",
       "      <th>poutcome</th>\n",
       "      <th>emp.var.rate</th>\n",
       "      <th>cons.price.idx</th>\n",
       "      <th>cons.conf.idx</th>\n",
       "      <th>euribor3m</th>\n",
       "      <th>nr.employed</th>\n",
       "      <th>y</th>\n",
       "    </tr>\n",
       "  </thead>\n",
       "  <tbody>\n",
       "    <tr>\n",
       "      <th>0</th>\n",
       "      <td>56</td>\n",
       "      <td>3</td>\n",
       "      <td>1</td>\n",
       "      <td>0</td>\n",
       "      <td>0</td>\n",
       "      <td>0</td>\n",
       "      <td>0</td>\n",
       "      <td>1</td>\n",
       "      <td>6</td>\n",
       "      <td>1</td>\n",
       "      <td>1</td>\n",
       "      <td>999</td>\n",
       "      <td>0</td>\n",
       "      <td>1</td>\n",
       "      <td>1.1</td>\n",
       "      <td>93.994</td>\n",
       "      <td>-36.4</td>\n",
       "      <td>4.857</td>\n",
       "      <td>5191.0</td>\n",
       "      <td>0</td>\n",
       "    </tr>\n",
       "    <tr>\n",
       "      <th>1</th>\n",
       "      <td>57</td>\n",
       "      <td>7</td>\n",
       "      <td>1</td>\n",
       "      <td>3</td>\n",
       "      <td>1</td>\n",
       "      <td>0</td>\n",
       "      <td>0</td>\n",
       "      <td>1</td>\n",
       "      <td>6</td>\n",
       "      <td>1</td>\n",
       "      <td>1</td>\n",
       "      <td>999</td>\n",
       "      <td>0</td>\n",
       "      <td>1</td>\n",
       "      <td>1.1</td>\n",
       "      <td>93.994</td>\n",
       "      <td>-36.4</td>\n",
       "      <td>4.857</td>\n",
       "      <td>5191.0</td>\n",
       "      <td>0</td>\n",
       "    </tr>\n",
       "    <tr>\n",
       "      <th>2</th>\n",
       "      <td>37</td>\n",
       "      <td>7</td>\n",
       "      <td>1</td>\n",
       "      <td>3</td>\n",
       "      <td>0</td>\n",
       "      <td>2</td>\n",
       "      <td>0</td>\n",
       "      <td>1</td>\n",
       "      <td>6</td>\n",
       "      <td>1</td>\n",
       "      <td>1</td>\n",
       "      <td>999</td>\n",
       "      <td>0</td>\n",
       "      <td>1</td>\n",
       "      <td>1.1</td>\n",
       "      <td>93.994</td>\n",
       "      <td>-36.4</td>\n",
       "      <td>4.857</td>\n",
       "      <td>5191.0</td>\n",
       "      <td>0</td>\n",
       "    </tr>\n",
       "    <tr>\n",
       "      <th>3</th>\n",
       "      <td>40</td>\n",
       "      <td>0</td>\n",
       "      <td>1</td>\n",
       "      <td>1</td>\n",
       "      <td>0</td>\n",
       "      <td>0</td>\n",
       "      <td>0</td>\n",
       "      <td>1</td>\n",
       "      <td>6</td>\n",
       "      <td>1</td>\n",
       "      <td>1</td>\n",
       "      <td>999</td>\n",
       "      <td>0</td>\n",
       "      <td>1</td>\n",
       "      <td>1.1</td>\n",
       "      <td>93.994</td>\n",
       "      <td>-36.4</td>\n",
       "      <td>4.857</td>\n",
       "      <td>5191.0</td>\n",
       "      <td>0</td>\n",
       "    </tr>\n",
       "    <tr>\n",
       "      <th>4</th>\n",
       "      <td>56</td>\n",
       "      <td>7</td>\n",
       "      <td>1</td>\n",
       "      <td>3</td>\n",
       "      <td>0</td>\n",
       "      <td>0</td>\n",
       "      <td>2</td>\n",
       "      <td>1</td>\n",
       "      <td>6</td>\n",
       "      <td>1</td>\n",
       "      <td>1</td>\n",
       "      <td>999</td>\n",
       "      <td>0</td>\n",
       "      <td>1</td>\n",
       "      <td>1.1</td>\n",
       "      <td>93.994</td>\n",
       "      <td>-36.4</td>\n",
       "      <td>4.857</td>\n",
       "      <td>5191.0</td>\n",
       "      <td>0</td>\n",
       "    </tr>\n",
       "  </tbody>\n",
       "</table>\n",
       "</div>"
      ],
      "text/plain": [
       "   age  job  marital  education  default  housing  loan  contact  month  \\\n",
       "0   56    3        1          0        0        0     0        1      6   \n",
       "1   57    7        1          3        1        0     0        1      6   \n",
       "2   37    7        1          3        0        2     0        1      6   \n",
       "3   40    0        1          1        0        0     0        1      6   \n",
       "4   56    7        1          3        0        0     2        1      6   \n",
       "\n",
       "   day_of_week  campaign  pdays  previous  poutcome  emp.var.rate  \\\n",
       "0            1         1    999         0         1           1.1   \n",
       "1            1         1    999         0         1           1.1   \n",
       "2            1         1    999         0         1           1.1   \n",
       "3            1         1    999         0         1           1.1   \n",
       "4            1         1    999         0         1           1.1   \n",
       "\n",
       "   cons.price.idx  cons.conf.idx  euribor3m  nr.employed  y  \n",
       "0          93.994          -36.4      4.857       5191.0  0  \n",
       "1          93.994          -36.4      4.857       5191.0  0  \n",
       "2          93.994          -36.4      4.857       5191.0  0  \n",
       "3          93.994          -36.4      4.857       5191.0  0  \n",
       "4          93.994          -36.4      4.857       5191.0  0  "
      ]
     },
     "execution_count": 63,
     "metadata": {},
     "output_type": "execute_result"
    }
   ],
   "source": [
    "df.head()"
   ]
  },
  {
   "cell_type": "code",
   "execution_count": 64,
   "id": "6e45dde1",
   "metadata": {},
   "outputs": [],
   "source": [
    "df = df.drop_duplicates()"
   ]
  },
  {
   "cell_type": "code",
   "execution_count": 65,
   "id": "d50ae514",
   "metadata": {},
   "outputs": [
    {
     "data": {
      "text/plain": [
       "(39404, 20)"
      ]
     },
     "execution_count": 65,
     "metadata": {},
     "output_type": "execute_result"
    }
   ],
   "source": [
    "df.shape"
   ]
  },
  {
   "cell_type": "code",
   "execution_count": 66,
   "id": "c8624697",
   "metadata": {},
   "outputs": [
    {
     "data": {
      "text/plain": [
       "(9196,)"
      ]
     },
     "execution_count": 66,
     "metadata": {},
     "output_type": "execute_result"
    }
   ],
   "source": [
    "from imblearn.under_sampling import NearMiss\n",
    "x=df.iloc[:,0:19]\n",
    "y1=df['y']\n",
    "undersample = NearMiss()\n",
    "# transform the dataset\n",
    "x, y1 = undersample.fit_resample(x, y1)\n",
    "y1.shape"
   ]
  },
  {
   "cell_type": "code",
   "execution_count": 67,
   "id": "0b77f8b5",
   "metadata": {},
   "outputs": [
    {
     "data": {
      "text/plain": [
       "(9196, 20)"
      ]
     },
     "execution_count": 67,
     "metadata": {},
     "output_type": "execute_result"
    }
   ],
   "source": [
    "import pandas as pd\n",
    "\n",
    "df=pd.concat([x,y1],axis=1)\n",
    "df.shape"
   ]
  },
  {
   "cell_type": "code",
   "execution_count": 68,
   "id": "4c3d9c93",
   "metadata": {},
   "outputs": [
    {
     "data": {
      "text/html": [
       "<div>\n",
       "<style scoped>\n",
       "    .dataframe tbody tr th:only-of-type {\n",
       "        vertical-align: middle;\n",
       "    }\n",
       "\n",
       "    .dataframe tbody tr th {\n",
       "        vertical-align: top;\n",
       "    }\n",
       "\n",
       "    .dataframe thead th {\n",
       "        text-align: right;\n",
       "    }\n",
       "</style>\n",
       "<table border=\"1\" class=\"dataframe\">\n",
       "  <thead>\n",
       "    <tr style=\"text-align: right;\">\n",
       "      <th></th>\n",
       "      <th>age</th>\n",
       "      <th>job</th>\n",
       "      <th>marital</th>\n",
       "      <th>education</th>\n",
       "      <th>default</th>\n",
       "      <th>housing</th>\n",
       "      <th>loan</th>\n",
       "      <th>contact</th>\n",
       "      <th>month</th>\n",
       "      <th>day_of_week</th>\n",
       "      <th>campaign</th>\n",
       "      <th>pdays</th>\n",
       "      <th>previous</th>\n",
       "      <th>poutcome</th>\n",
       "      <th>emp.var.rate</th>\n",
       "      <th>cons.price.idx</th>\n",
       "      <th>cons.conf.idx</th>\n",
       "      <th>euribor3m</th>\n",
       "      <th>nr.employed</th>\n",
       "      <th>y</th>\n",
       "    </tr>\n",
       "  </thead>\n",
       "  <tbody>\n",
       "    <tr>\n",
       "      <th>0</th>\n",
       "      <td>30</td>\n",
       "      <td>6</td>\n",
       "      <td>2</td>\n",
       "      <td>6</td>\n",
       "      <td>0</td>\n",
       "      <td>2</td>\n",
       "      <td>0</td>\n",
       "      <td>0</td>\n",
       "      <td>0</td>\n",
       "      <td>2</td>\n",
       "      <td>1</td>\n",
       "      <td>999</td>\n",
       "      <td>0</td>\n",
       "      <td>1</td>\n",
       "      <td>-1.8</td>\n",
       "      <td>93.075</td>\n",
       "      <td>-47.1</td>\n",
       "      <td>1.435</td>\n",
       "      <td>5099.1</td>\n",
       "      <td>0</td>\n",
       "    </tr>\n",
       "    <tr>\n",
       "      <th>1</th>\n",
       "      <td>32</td>\n",
       "      <td>0</td>\n",
       "      <td>2</td>\n",
       "      <td>6</td>\n",
       "      <td>0</td>\n",
       "      <td>0</td>\n",
       "      <td>0</td>\n",
       "      <td>0</td>\n",
       "      <td>1</td>\n",
       "      <td>4</td>\n",
       "      <td>1</td>\n",
       "      <td>999</td>\n",
       "      <td>0</td>\n",
       "      <td>1</td>\n",
       "      <td>1.4</td>\n",
       "      <td>93.444</td>\n",
       "      <td>-36.1</td>\n",
       "      <td>4.965</td>\n",
       "      <td>5228.1</td>\n",
       "      <td>0</td>\n",
       "    </tr>\n",
       "    <tr>\n",
       "      <th>2</th>\n",
       "      <td>31</td>\n",
       "      <td>0</td>\n",
       "      <td>2</td>\n",
       "      <td>6</td>\n",
       "      <td>0</td>\n",
       "      <td>0</td>\n",
       "      <td>0</td>\n",
       "      <td>0</td>\n",
       "      <td>1</td>\n",
       "      <td>3</td>\n",
       "      <td>1</td>\n",
       "      <td>999</td>\n",
       "      <td>0</td>\n",
       "      <td>1</td>\n",
       "      <td>1.4</td>\n",
       "      <td>93.444</td>\n",
       "      <td>-36.1</td>\n",
       "      <td>4.966</td>\n",
       "      <td>5228.1</td>\n",
       "      <td>0</td>\n",
       "    </tr>\n",
       "    <tr>\n",
       "      <th>3</th>\n",
       "      <td>30</td>\n",
       "      <td>0</td>\n",
       "      <td>2</td>\n",
       "      <td>6</td>\n",
       "      <td>0</td>\n",
       "      <td>0</td>\n",
       "      <td>0</td>\n",
       "      <td>0</td>\n",
       "      <td>0</td>\n",
       "      <td>2</td>\n",
       "      <td>1</td>\n",
       "      <td>999</td>\n",
       "      <td>0</td>\n",
       "      <td>1</td>\n",
       "      <td>-1.8</td>\n",
       "      <td>93.075</td>\n",
       "      <td>-47.1</td>\n",
       "      <td>1.365</td>\n",
       "      <td>5099.1</td>\n",
       "      <td>0</td>\n",
       "    </tr>\n",
       "    <tr>\n",
       "      <th>4</th>\n",
       "      <td>32</td>\n",
       "      <td>0</td>\n",
       "      <td>2</td>\n",
       "      <td>6</td>\n",
       "      <td>0</td>\n",
       "      <td>0</td>\n",
       "      <td>0</td>\n",
       "      <td>0</td>\n",
       "      <td>1</td>\n",
       "      <td>4</td>\n",
       "      <td>1</td>\n",
       "      <td>999</td>\n",
       "      <td>0</td>\n",
       "      <td>1</td>\n",
       "      <td>1.4</td>\n",
       "      <td>93.444</td>\n",
       "      <td>-36.1</td>\n",
       "      <td>4.964</td>\n",
       "      <td>5228.1</td>\n",
       "      <td>0</td>\n",
       "    </tr>\n",
       "  </tbody>\n",
       "</table>\n",
       "</div>"
      ],
      "text/plain": [
       "   age  job  marital  education  default  housing  loan  contact  month  \\\n",
       "0   30    6        2          6        0        2     0        0      0   \n",
       "1   32    0        2          6        0        0     0        0      1   \n",
       "2   31    0        2          6        0        0     0        0      1   \n",
       "3   30    0        2          6        0        0     0        0      0   \n",
       "4   32    0        2          6        0        0     0        0      1   \n",
       "\n",
       "   day_of_week  campaign  pdays  previous  poutcome  emp.var.rate  \\\n",
       "0            2         1    999         0         1          -1.8   \n",
       "1            4         1    999         0         1           1.4   \n",
       "2            3         1    999         0         1           1.4   \n",
       "3            2         1    999         0         1          -1.8   \n",
       "4            4         1    999         0         1           1.4   \n",
       "\n",
       "   cons.price.idx  cons.conf.idx  euribor3m  nr.employed  y  \n",
       "0          93.075          -47.1      1.435       5099.1  0  \n",
       "1          93.444          -36.1      4.965       5228.1  0  \n",
       "2          93.444          -36.1      4.966       5228.1  0  \n",
       "3          93.075          -47.1      1.365       5099.1  0  \n",
       "4          93.444          -36.1      4.964       5228.1  0  "
      ]
     },
     "execution_count": 68,
     "metadata": {},
     "output_type": "execute_result"
    }
   ],
   "source": [
    "df.head()"
   ]
  },
  {
   "cell_type": "code",
   "execution_count": 69,
   "id": "fb5ddcaf",
   "metadata": {},
   "outputs": [],
   "source": [
    "import scipy.stats as stats\n",
    "Q1 = df.quantile(q = .25)\n",
    "Q3 = df.quantile(q = .75)\n",
    "IQR = df.apply(stats.iqr)"
   ]
  },
  {
   "cell_type": "code",
   "execution_count": 70,
   "id": "a8e177bf",
   "metadata": {},
   "outputs": [],
   "source": [
    "df = df[~(( df < (Q1 - 1.5 * IQR)) | (df > (Q3 + 1.5 * IQR))).any(axis=1)]"
   ]
  },
  {
   "cell_type": "code",
   "execution_count": 71,
   "id": "a78b76de",
   "metadata": {},
   "outputs": [
    {
     "data": {
      "text/plain": [
       "(3932, 20)"
      ]
     },
     "execution_count": 71,
     "metadata": {},
     "output_type": "execute_result"
    }
   ],
   "source": [
    "df.shape"
   ]
  },
  {
   "cell_type": "code",
   "execution_count": 72,
   "id": "75b07fc1",
   "metadata": {},
   "outputs": [
    {
     "data": {
      "text/plain": [
       "0    2480\n",
       "1    1452\n",
       "Name: y, dtype: int64"
      ]
     },
     "execution_count": 72,
     "metadata": {},
     "output_type": "execute_result"
    }
   ],
   "source": [
    "df.y.value_counts()"
   ]
  },
  {
   "cell_type": "code",
   "execution_count": 73,
   "id": "1f66db3e",
   "metadata": {},
   "outputs": [
    {
     "data": {
      "text/plain": [
       "age                 35.286623\n",
       "campaign             1.603001\n",
       "pdays              999.000000\n",
       "previous             0.000000\n",
       "emp.var.rate        -0.453866\n",
       "cons.price.idx      93.288236\n",
       "cons.conf.idx      -41.406155\n",
       "euribor3m            3.000044\n",
       "nr.employed       5149.717752\n",
       "dtype: float64"
      ]
     },
     "execution_count": 73,
     "metadata": {},
     "output_type": "execute_result"
    }
   ],
   "source": [
    "df[['age','campaign','pdays','previous','emp.var.rate','cons.price.idx','cons.conf.idx','euribor3m','nr.employed']].mean()"
   ]
  },
  {
   "cell_type": "code",
   "execution_count": 74,
   "id": "32cec07a",
   "metadata": {},
   "outputs": [
    {
     "data": {
      "text/plain": [
       "age                 33.000\n",
       "campaign             1.000\n",
       "pdays              999.000\n",
       "previous             0.000\n",
       "emp.var.rate        -1.100\n",
       "cons.price.idx      93.200\n",
       "cons.conf.idx      -42.700\n",
       "euribor3m            1.687\n",
       "nr.employed       5099.100\n",
       "dtype: float64"
      ]
     },
     "execution_count": 74,
     "metadata": {},
     "output_type": "execute_result"
    }
   ],
   "source": [
    "df[['age','campaign','pdays','previous','emp.var.rate','cons.price.idx','cons.conf.idx','euribor3m','nr.employed']].median()"
   ]
  },
  {
   "cell_type": "code",
   "execution_count": 75,
   "id": "500428ff",
   "metadata": {},
   "outputs": [
    {
     "data": {
      "text/html": [
       "<div>\n",
       "<style scoped>\n",
       "    .dataframe tbody tr th:only-of-type {\n",
       "        vertical-align: middle;\n",
       "    }\n",
       "\n",
       "    .dataframe tbody tr th {\n",
       "        vertical-align: top;\n",
       "    }\n",
       "\n",
       "    .dataframe thead th {\n",
       "        text-align: right;\n",
       "    }\n",
       "</style>\n",
       "<table border=\"1\" class=\"dataframe\">\n",
       "  <thead>\n",
       "    <tr style=\"text-align: right;\">\n",
       "      <th></th>\n",
       "      <th>age</th>\n",
       "      <th>campaign</th>\n",
       "      <th>pdays</th>\n",
       "      <th>previous</th>\n",
       "      <th>emp.var.rate</th>\n",
       "      <th>cons.price.idx</th>\n",
       "      <th>cons.conf.idx</th>\n",
       "      <th>euribor3m</th>\n",
       "      <th>nr.employed</th>\n",
       "    </tr>\n",
       "  </thead>\n",
       "  <tbody>\n",
       "    <tr>\n",
       "      <th>0</th>\n",
       "      <td>31</td>\n",
       "      <td>1</td>\n",
       "      <td>999</td>\n",
       "      <td>0</td>\n",
       "      <td>1.4</td>\n",
       "      <td>93.444</td>\n",
       "      <td>-36.1</td>\n",
       "      <td>4.963</td>\n",
       "      <td>5228.1</td>\n",
       "    </tr>\n",
       "  </tbody>\n",
       "</table>\n",
       "</div>"
      ],
      "text/plain": [
       "   age  campaign  pdays  previous  emp.var.rate  cons.price.idx  \\\n",
       "0   31         1    999         0           1.4          93.444   \n",
       "\n",
       "   cons.conf.idx  euribor3m  nr.employed  \n",
       "0          -36.1      4.963       5228.1  "
      ]
     },
     "execution_count": 75,
     "metadata": {},
     "output_type": "execute_result"
    }
   ],
   "source": [
    "df[['age','campaign','pdays','previous','emp.var.rate','cons.price.idx','cons.conf.idx','euribor3m','nr.employed']].mode()"
   ]
  },
  {
   "cell_type": "code",
   "execution_count": 76,
   "id": "1ca8368a",
   "metadata": {},
   "outputs": [
    {
     "data": {
      "text/plain": [
       "age                 63.964888\n",
       "campaign             0.517752\n",
       "pdays                0.000000\n",
       "previous             0.000000\n",
       "emp.var.rate         2.920664\n",
       "cons.price.idx       0.230820\n",
       "cons.conf.idx       27.003620\n",
       "euribor3m            3.376806\n",
       "nr.employed       6089.542290\n",
       "dtype: float64"
      ]
     },
     "execution_count": 76,
     "metadata": {},
     "output_type": "execute_result"
    }
   ],
   "source": [
    "df[['age','campaign','pdays','previous','emp.var.rate','cons.price.idx','cons.conf.idx','euribor3m','nr.employed']].var()"
   ]
  },
  {
   "cell_type": "code",
   "execution_count": 77,
   "id": "79610022",
   "metadata": {},
   "outputs": [
    {
     "data": {
      "text/plain": [
       "age                 35.286623\n",
       "campaign             1.603001\n",
       "pdays              999.000000\n",
       "previous             0.000000\n",
       "emp.var.rate        -0.453866\n",
       "cons.price.idx      93.288236\n",
       "cons.conf.idx      -41.406155\n",
       "euribor3m            3.000044\n",
       "nr.employed       5149.717752\n",
       "dtype: float64"
      ]
     },
     "execution_count": 77,
     "metadata": {},
     "output_type": "execute_result"
    }
   ],
   "source": [
    "df[['age','campaign','pdays','previous','emp.var.rate','cons.price.idx','cons.conf.idx','euribor3m','nr.employed']].mean()"
   ]
  },
  {
   "cell_type": "code",
   "execution_count": 78,
   "id": "6a3f5d74",
   "metadata": {},
   "outputs": [
    {
     "name": "stdout",
     "output_type": "stream",
     "text": [
      "<class 'pandas.core.frame.DataFrame'>\n",
      "Int64Index: 3932 entries, 0 to 9195\n",
      "Data columns (total 20 columns):\n",
      " #   Column          Non-Null Count  Dtype  \n",
      "---  ------          --------------  -----  \n",
      " 0   age             3932 non-null   int64  \n",
      " 1   job             3932 non-null   int32  \n",
      " 2   marital         3932 non-null   int32  \n",
      " 3   education       3932 non-null   int32  \n",
      " 4   default         3932 non-null   int32  \n",
      " 5   housing         3932 non-null   int32  \n",
      " 6   loan            3932 non-null   int32  \n",
      " 7   contact         3932 non-null   int32  \n",
      " 8   month           3932 non-null   int32  \n",
      " 9   day_of_week     3932 non-null   int32  \n",
      " 10  campaign        3932 non-null   int64  \n",
      " 11  pdays           3932 non-null   int64  \n",
      " 12  previous        3932 non-null   int64  \n",
      " 13  poutcome        3932 non-null   int32  \n",
      " 14  emp.var.rate    3932 non-null   float64\n",
      " 15  cons.price.idx  3932 non-null   float64\n",
      " 16  cons.conf.idx   3932 non-null   float64\n",
      " 17  euribor3m       3932 non-null   float64\n",
      " 18  nr.employed     3932 non-null   float64\n",
      " 19  y               3932 non-null   int32  \n",
      "dtypes: float64(5), int32(11), int64(4)\n",
      "memory usage: 476.1 KB\n"
     ]
    }
   ],
   "source": [
    "df.info()"
   ]
  },
  {
   "cell_type": "code",
   "execution_count": 79,
   "id": "7f52e3e1",
   "metadata": {},
   "outputs": [
    {
     "data": {
      "image/png": "[encoded data removed]",
      "text/plain": [
       "<Figure size 1296x360 with 2 Axes>"
      ]
     },
     "metadata": {
      "needs_background": "light"
     },
     "output_type": "display_data"
    }
   ],
   "source": [
    "import matplotlib.pyplot as plt\n",
    "# Create histograms for age and campaign\n",
    "num_cols = ['age', 'campaign']\n",
    "df[num_cols].hist(bins=20, figsize=(18, 5),color = '#56B4E9', edgecolor = 'black')\n",
    "plt.show()"
   ]
  },
  {
   "cell_type": "code",
   "execution_count": 80,
   "id": "00be18c4",
   "metadata": {},
   "outputs": [
    {
     "data": {
      "image/png": "[encoded data removed]",
      "text/plain": [
       "<Figure size 1296x1296 with 6 Axes>"
      ]
     },
     "metadata": {
      "needs_background": "light"
     },
     "output_type": "display_data"
    }
   ],
   "source": [
    "import seaborn as sns\n",
    "# Create bar charts for some of categorical columns\n",
    "cat_cols = ['job', 'marital', 'education', 'housing', 'month', 'day_of_week']\n",
    "fig, axs = plt.subplots(3, 2, figsize=(18, 18))\n",
    "axs = axs.flatten()\n",
    "for i, col in enumerate(cat_cols):\n",
    "    sns.countplot(x=col, data=df, ax=axs[i])\n",
    "plt.tight_layout()\n",
    "plt.show()"
   ]
  },
  {
   "cell_type": "code",
   "execution_count": 81,
   "id": "ce528d20",
   "metadata": {
    "scrolled": false
   },
   "outputs": [
    {
     "name": "stderr",
     "output_type": "stream",
     "text": [
      "D:\\anaconda\\lib\\site-packages\\seaborn\\distributions.py:2619: FutureWarning: `distplot` is a deprecated function and will be removed in a future version. Please adapt your code to use either `displot` (a figure-level function with similar flexibility) or `kdeplot` (an axes-level function for kernel density plots).\n",
      "  warnings.warn(msg, FutureWarning)\n"
     ]
    },
    {
     "data": {
      "text/plain": [
       "<AxesSubplot:xlabel='cons.price.idx', ylabel='Density'>"
      ]
     },
     "execution_count": 81,
     "metadata": {},
     "output_type": "execute_result"
    },
    {
     "data": {
      "image/png": "[encoded data removed]",
      "text/plain": [
       "<Figure size 432x288 with 1 Axes>"
      ]
     },
     "metadata": {
      "needs_background": "light"
     },
     "output_type": "display_data"
    }
   ],
   "source": [
    "sns.distplot(df['cons.price.idx'], hist=False, kde_kws={'shade':True}, color = 'blue',hist_kws={'edgecolor':'black'})"
   ]
  },
  {
   "cell_type": "code",
   "execution_count": 82,
   "id": "b3aac9bf",
   "metadata": {},
   "outputs": [
    {
     "data": {
      "image/png": "[encoded data removed]",
      "text/plain": [
       "<Figure size 576x432 with 1 Axes>"
      ]
     },
     "metadata": {
      "needs_background": "light"
     },
     "output_type": "display_data"
    }
   ],
   "source": [
    "# Calculate the count of each marital status for each 'y' value\n",
    "marital_counts = df.groupby(['marital', 'y']).size().unstack()\n",
    "\n",
    "# Create the stacked column chart\n",
    "marital_counts.plot(kind='bar', stacked=True, figsize=(8, 6))\n",
    "\n",
    "# Set labels and title\n",
    "plt.xlabel('Marital Status')\n",
    "plt.ylabel('Count')\n",
    "plt.title('Stacked Column Chart for Marital Status with Respect to Y')\n",
    "\n",
    "# Show the chart\n",
    "plt.show()"
   ]
  },
  {
   "cell_type": "code",
   "execution_count": 83,
   "id": "50df02e5",
   "metadata": {},
   "outputs": [
    {
     "data": {
      "image/png": "[encoded data removed]",
      "text/plain": [
       "<Figure size 432x288 with 1 Axes>"
      ]
     },
     "metadata": {},
     "output_type": "display_data"
    }
   ],
   "source": [
    "# Count the number of occurrences of each y status\n",
    "y_counts = df['y'].value_counts()\n",
    "\n",
    "# Create a pie chart for the y column\n",
    "plt.pie(y_counts.values, labels=y_counts.index, autopct='%1.1f%%')\n",
    "plt.title('y  Distribution')\n",
    "plt.show()"
   ]
  },
  {
   "cell_type": "code",
   "execution_count": 84,
   "id": "069980e2",
   "metadata": {},
   "outputs": [
    {
     "data": {
      "text/plain": [
       "2    2256\n",
       "0    1676\n",
       "Name: housing, dtype: int64"
      ]
     },
     "execution_count": 84,
     "metadata": {},
     "output_type": "execute_result"
    }
   ],
   "source": [
    "df.housing.value_counts()"
   ]
  },
  {
   "cell_type": "code",
   "execution_count": 85,
   "id": "03de4e83",
   "metadata": {
    "scrolled": true
   },
   "outputs": [
    {
     "data": {
      "image/png": "[encoded data removed]",
      "text/plain": [
       "<Figure size 432x288 with 1 Axes>"
      ]
     },
     "metadata": {
      "needs_background": "light"
     },
     "output_type": "display_data"
    }
   ],
   "source": [
    "# Create box plot for 'age' column grouped by 'marital' column\n",
    "sns.boxplot(x='marital', y='age', data=df)\n",
    "plt.show()"
   ]
  },
  {
   "cell_type": "code",
   "execution_count": 86,
   "id": "823d22b4",
   "metadata": {},
   "outputs": [],
   "source": [
    "from sklearn.model_selection import train_test_split\n",
    "from sklearn.feature_selection import SelectPercentile, chi2\n",
    "# Define the target variable\n",
    "features = df.drop(['y','emp.var.rate','cons.conf.idx','contact','month','day_of_week','pdays'], axis=1)\n",
    "target = df['y']\n",
    "\n",
    "# Split the data into training and testing sets\n",
    "X_train, X_test, y_train, y_test = train_test_split(features, target, test_size=0.2, random_state=42)\n",
    "\n",
    "# Perform chi2 feature selection\n",
    "selector = SelectPercentile(score_func = chi2, percentile=30)\n",
    "X_train_selected = selector.fit_transform(X_train, y_train)\n",
    "X_test_selected = selector.transform(X_test)\n"
   ]
  },
  {
   "cell_type": "code",
   "execution_count": 87,
   "id": "8a95084f",
   "metadata": {},
   "outputs": [
    {
     "name": "stdout",
     "output_type": "stream",
     "text": [
      "accuracy_Score_LR : 73.443\n"
     ]
    }
   ],
   "source": [
    "from sklearn.linear_model import LogisticRegression\n",
    "from sklearn import metrics\n",
    "lr_model = LogisticRegression( solver='lbfgs')\n",
    "# fit the model with data\n",
    "lr_model.fit(X_train_selected, y_train)\n",
    "# predict with test dataset\n",
    "y_predict_LR = lr_model.predict(X_test_selected)\n",
    "# print(y_predict_LR)\n",
    "#print(metrics.accuracy_score(y_test, y_predict_LR))\n",
    "accuracy_Score_LR = metrics.accuracy_score(y_test, y_predict_LR)*100\n",
    "print ('accuracy_Score_LR : %.3f'%accuracy_Score_LR)\n",
    "\n",
    "\n"
   ]
  },
  {
   "cell_type": "code",
   "execution_count": 88,
   "id": "0f56e42d",
   "metadata": {},
   "outputs": [
    {
     "name": "stdout",
     "output_type": "stream",
     "text": [
      "accuracy_Score_Multinaive_bayes : 74.206\n"
     ]
    }
   ],
   "source": [
    "from sklearn.naive_bayes import MultinomialNB\n",
    "from sklearn import metrics\n",
    " # train the model using MultinomialNB naive_bayes\n",
    "nMulti_model=MultinomialNB(alpha=0.2)\n",
    " # fit the model with data\n",
    "nMulti_model.fit(X_train_selected, y_train)\n",
    " # predict with test dataset\n",
    "y_predict_Multinaive_bayes =nMulti_model.predict(X_test_selected)\n",
    "accuracy_Score_Multinaive_bayes = metrics.accuracy_score(y_test,y_predict_Multinaive_bayes)*100\n",
    "print ('accuracy_Score_Multinaive_bayes : %.3f'%accuracy_Score_Multinaive_bayes)"
   ]
  },
  {
   "cell_type": "code",
   "execution_count": 89,
   "id": "197ad964",
   "metadata": {},
   "outputs": [
    {
     "name": "stdout",
     "output_type": "stream",
     "text": [
      "Accuracy Score (ID3): 74.460\n"
     ]
    }
   ],
   "source": [
    "from sklearn.tree import DecisionTreeClassifier\n",
    "from sklearn import metrics\n",
    "# Train the decision tree classifier using ID3 algorithm (entropy criterion)\n",
    "t_model = DecisionTreeClassifier(criterion='entropy')\n",
    "t_model.fit(X_train_selected, y_train)\n",
    "\n",
    "# Make predictions on the test set\n",
    "y_predict_ID3 = t_model.predict(X_test_selected)\n",
    "\n",
    "# Evaluate the model\n",
    "accuracy_score_ID3 = metrics.accuracy_score(y_test, y_predict_ID3) * 100\n",
    "print('Accuracy Score (ID3): %.3f' % accuracy_score_ID3)\n"
   ]
  },
  {
   "cell_type": "code",
   "execution_count": 90,
   "id": "f0221078",
   "metadata": {},
   "outputs": [
    {
     "name": "stdout",
     "output_type": "stream",
     "text": [
      "Accuracy Score_DecisionTree: 76.366\n"
     ]
    }
   ],
   "source": [
    "from sklearn.tree import DecisionTreeClassifier\n",
    "from sklearn import metrics\n",
    "# Train the decision tree classifier\n",
    "t_model = DecisionTreeClassifier(max_depth=10)\n",
    "t_model.fit(X_train_selected, y_train)\n",
    "\n",
    "# Make predictions on the test set\n",
    "y_predict_DecisionTree = t_model.predict(X_test_selected)\n",
    "\n",
    "# Evaluate the model\n",
    "accuracy_Score_DecisionTree = metrics.accuracy_score(y_test, y_predict_DecisionTree) * 100\n",
    "t_model.fit(X_train_selected, y_train)\n",
    "\n",
    "# Make predictions on the test set\n",
    "y_predict_DecisionTree = t_model.predict(X_test_selected)\n",
    "\n",
    "# Evaluate the model\n",
    "accuracy_Score_DecisionTree = metrics.accuracy_score(y_test, y_predict_DecisionTree) * 100\n",
    "print('Accuracy Score_DecisionTree: %.3f' % accuracy_Score_DecisionTree)\n"
   ]
  },
  {
   "cell_type": "code",
   "execution_count": null,
   "id": "ace4938c",
   "metadata": {},
   "outputs": [],
   "source": []
  },
  {
   "cell_type": "code",
   "execution_count": null,
   "id": "94dac319",
   "metadata": {},
   "outputs": [],
   "source": []
  }
 ],
 "metadata": {
  "kernelspec": {
   "display_name": "Python 3 (ipykernel)",
   "language": "python",
   "name": "python3"
  },
  "language_info": {
   "codemirror_mode": {
    "name": "ipython",
    "version": 3
   },
   "file_extension": ".py",
   "mimetype": "text/x-python",
   "name": "python",
   "nbconvert_exporter": "python",
   "pygments_lexer": "ipython3",
   "version": "3.9.7"
  }
 },
 "nbformat": 4,
 "nbformat_minor": 5
}
